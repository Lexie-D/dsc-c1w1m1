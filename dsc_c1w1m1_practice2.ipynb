{
 "cells": [
  {
   "cell_type": "markdown",
   "metadata": {
    "id": "quInnNDJ07dw"
   },
   "source": [
    "# Practice for Selecting Data with SQL"
   ]
  },
  {
   "cell_type": "markdown",
   "metadata": {
    "id": "8eWzcr9608Jx"
   },
   "source": [
    "Run the code below without change to get started."
   ]
  },
  {
   "cell_type": "code",
   "execution_count": 1,
   "metadata": {
    "id": "NZdFfU5406yL"
   },
   "outputs": [
    {
     "data": {
      "text/html": [
       "<div>\n",
       "<style scoped>\n",
       "    .dataframe tbody tr th:only-of-type {\n",
       "        vertical-align: middle;\n",
       "    }\n",
       "\n",
       "    .dataframe tbody tr th {\n",
       "        vertical-align: top;\n",
       "    }\n",
       "\n",
       "    .dataframe thead th {\n",
       "        text-align: right;\n",
       "    }\n",
       "</style>\n",
       "<table border=\"1\" class=\"dataframe\">\n",
       "  <thead>\n",
       "    <tr style=\"text-align: right;\">\n",
       "      <th></th>\n",
       "      <th>productCode</th>\n",
       "      <th>productName</th>\n",
       "      <th>productLine</th>\n",
       "      <th>productScale</th>\n",
       "      <th>productVendor</th>\n",
       "      <th>productDescription</th>\n",
       "      <th>quantityInStock</th>\n",
       "      <th>buyPrice</th>\n",
       "      <th>MSRP</th>\n",
       "    </tr>\n",
       "  </thead>\n",
       "  <tbody>\n",
       "    <tr>\n",
       "      <th>0</th>\n",
       "      <td>S10_1678</td>\n",
       "      <td>1969 Harley Davidson Ultimate Chopper</td>\n",
       "      <td>Motorcycles</td>\n",
       "      <td>1:10</td>\n",
       "      <td>Min Lin Diecast</td>\n",
       "      <td>This replica features working kickstand, front...</td>\n",
       "      <td>7933</td>\n",
       "      <td>48.81</td>\n",
       "      <td>95.70</td>\n",
       "    </tr>\n",
       "    <tr>\n",
       "      <th>1</th>\n",
       "      <td>S10_1949</td>\n",
       "      <td>1952 Alpine Renault 1300</td>\n",
       "      <td>Classic Cars</td>\n",
       "      <td>1:10</td>\n",
       "      <td>Classic Metal Creations</td>\n",
       "      <td>Turnable front wheels; steering function; deta...</td>\n",
       "      <td>7305</td>\n",
       "      <td>98.58</td>\n",
       "      <td>214.30</td>\n",
       "    </tr>\n",
       "    <tr>\n",
       "      <th>2</th>\n",
       "      <td>S10_2016</td>\n",
       "      <td>1996 Moto Guzzi 1100i</td>\n",
       "      <td>Motorcycles</td>\n",
       "      <td>1:10</td>\n",
       "      <td>Highway 66 Mini Classics</td>\n",
       "      <td>Official Moto Guzzi logos and insignias, saddl...</td>\n",
       "      <td>6625</td>\n",
       "      <td>68.99</td>\n",
       "      <td>118.94</td>\n",
       "    </tr>\n",
       "    <tr>\n",
       "      <th>3</th>\n",
       "      <td>S10_4698</td>\n",
       "      <td>2003 Harley-Davidson Eagle Drag Bike</td>\n",
       "      <td>Motorcycles</td>\n",
       "      <td>1:10</td>\n",
       "      <td>Red Start Diecast</td>\n",
       "      <td>Model features, official Harley Davidson logos...</td>\n",
       "      <td>5582</td>\n",
       "      <td>91.02</td>\n",
       "      <td>193.66</td>\n",
       "    </tr>\n",
       "    <tr>\n",
       "      <th>4</th>\n",
       "      <td>S10_4757</td>\n",
       "      <td>1972 Alfa Romeo GTA</td>\n",
       "      <td>Classic Cars</td>\n",
       "      <td>1:10</td>\n",
       "      <td>Motor City Art Classics</td>\n",
       "      <td>Features include: Turnable front wheels; steer...</td>\n",
       "      <td>3252</td>\n",
       "      <td>85.68</td>\n",
       "      <td>136.00</td>\n",
       "    </tr>\n",
       "    <tr>\n",
       "      <th>...</th>\n",
       "      <td>...</td>\n",
       "      <td>...</td>\n",
       "      <td>...</td>\n",
       "      <td>...</td>\n",
       "      <td>...</td>\n",
       "      <td>...</td>\n",
       "      <td>...</td>\n",
       "      <td>...</td>\n",
       "      <td>...</td>\n",
       "    </tr>\n",
       "    <tr>\n",
       "      <th>105</th>\n",
       "      <td>S700_3505</td>\n",
       "      <td>The Titanic</td>\n",
       "      <td>Ships</td>\n",
       "      <td>1:700</td>\n",
       "      <td>Carousel DieCast Legends</td>\n",
       "      <td>Completed model measures 19 1/2 inches long, 9...</td>\n",
       "      <td>1956</td>\n",
       "      <td>51.09</td>\n",
       "      <td>100.17</td>\n",
       "    </tr>\n",
       "    <tr>\n",
       "      <th>106</th>\n",
       "      <td>S700_3962</td>\n",
       "      <td>The Queen Mary</td>\n",
       "      <td>Ships</td>\n",
       "      <td>1:700</td>\n",
       "      <td>Welly Diecast Productions</td>\n",
       "      <td>Exact replica. Wood and Metal. Many extras inc...</td>\n",
       "      <td>5088</td>\n",
       "      <td>53.63</td>\n",
       "      <td>99.31</td>\n",
       "    </tr>\n",
       "    <tr>\n",
       "      <th>107</th>\n",
       "      <td>S700_4002</td>\n",
       "      <td>American Airlines: MD-11S</td>\n",
       "      <td>Planes</td>\n",
       "      <td>1:700</td>\n",
       "      <td>Second Gear Diecast</td>\n",
       "      <td>Polished finish. Exact replia with official lo...</td>\n",
       "      <td>8820</td>\n",
       "      <td>36.27</td>\n",
       "      <td>74.03</td>\n",
       "    </tr>\n",
       "    <tr>\n",
       "      <th>108</th>\n",
       "      <td>S72_1253</td>\n",
       "      <td>Boeing X-32A JSF</td>\n",
       "      <td>Planes</td>\n",
       "      <td>1:72</td>\n",
       "      <td>Motor City Art Classics</td>\n",
       "      <td>10\" Wingspan with retractable landing gears.Co...</td>\n",
       "      <td>4857</td>\n",
       "      <td>32.77</td>\n",
       "      <td>49.66</td>\n",
       "    </tr>\n",
       "    <tr>\n",
       "      <th>109</th>\n",
       "      <td>S72_3212</td>\n",
       "      <td>Pont Yacht</td>\n",
       "      <td>Ships</td>\n",
       "      <td>1:72</td>\n",
       "      <td>Unimax Art Galleries</td>\n",
       "      <td>Measures 38 inches Long x 33 3/4 inches High. ...</td>\n",
       "      <td>414</td>\n",
       "      <td>33.30</td>\n",
       "      <td>54.60</td>\n",
       "    </tr>\n",
       "  </tbody>\n",
       "</table>\n",
       "<p>110 rows × 9 columns</p>\n",
       "</div>"
      ],
      "text/plain": [
       "    productCode                            productName   productLine  \\\n",
       "0      S10_1678  1969 Harley Davidson Ultimate Chopper   Motorcycles   \n",
       "1      S10_1949               1952 Alpine Renault 1300  Classic Cars   \n",
       "2      S10_2016                  1996 Moto Guzzi 1100i   Motorcycles   \n",
       "3      S10_4698   2003 Harley-Davidson Eagle Drag Bike   Motorcycles   \n",
       "4      S10_4757                    1972 Alfa Romeo GTA  Classic Cars   \n",
       "..          ...                                    ...           ...   \n",
       "105   S700_3505                            The Titanic         Ships   \n",
       "106   S700_3962                         The Queen Mary         Ships   \n",
       "107   S700_4002              American Airlines: MD-11S        Planes   \n",
       "108    S72_1253                       Boeing X-32A JSF        Planes   \n",
       "109    S72_3212                             Pont Yacht         Ships   \n",
       "\n",
       "    productScale              productVendor  \\\n",
       "0           1:10            Min Lin Diecast   \n",
       "1           1:10    Classic Metal Creations   \n",
       "2           1:10   Highway 66 Mini Classics   \n",
       "3           1:10          Red Start Diecast   \n",
       "4           1:10    Motor City Art Classics   \n",
       "..           ...                        ...   \n",
       "105        1:700   Carousel DieCast Legends   \n",
       "106        1:700  Welly Diecast Productions   \n",
       "107        1:700        Second Gear Diecast   \n",
       "108         1:72    Motor City Art Classics   \n",
       "109         1:72       Unimax Art Galleries   \n",
       "\n",
       "                                    productDescription  quantityInStock  \\\n",
       "0    This replica features working kickstand, front...             7933   \n",
       "1    Turnable front wheels; steering function; deta...             7305   \n",
       "2    Official Moto Guzzi logos and insignias, saddl...             6625   \n",
       "3    Model features, official Harley Davidson logos...             5582   \n",
       "4    Features include: Turnable front wheels; steer...             3252   \n",
       "..                                                 ...              ...   \n",
       "105  Completed model measures 19 1/2 inches long, 9...             1956   \n",
       "106  Exact replica. Wood and Metal. Many extras inc...             5088   \n",
       "107  Polished finish. Exact replia with official lo...             8820   \n",
       "108  10\" Wingspan with retractable landing gears.Co...             4857   \n",
       "109  Measures 38 inches Long x 33 3/4 inches High. ...              414   \n",
       "\n",
       "     buyPrice    MSRP  \n",
       "0       48.81   95.70  \n",
       "1       98.58  214.30  \n",
       "2       68.99  118.94  \n",
       "3       91.02  193.66  \n",
       "4       85.68  136.00  \n",
       "..        ...     ...  \n",
       "105     51.09  100.17  \n",
       "106     53.63   99.31  \n",
       "107     36.27   74.03  \n",
       "108     32.77   49.66  \n",
       "109     33.30   54.60  \n",
       "\n",
       "[110 rows x 9 columns]"
      ]
     },
     "execution_count": 1,
     "metadata": {},
     "output_type": "execute_result"
    }
   ],
   "source": [
    "# Connecting, Libraries, and Data\n",
    "\n",
    "import sqlite3\n",
    "conn = sqlite3.connect('data.sqlite')\n",
    "\n",
    "import pandas as pd\n",
    "\n",
    "pd.read_sql(\"\"\"\n",
    "SELECT *\n",
    "  FROM products;\n",
    "\"\"\", conn)"
   ]
  },
  {
   "cell_type": "markdown",
   "metadata": {
    "id": "wtn8gykt1nLS"
   },
   "source": [
    "1. Select the product name and product code for the products\n",
    "- Show the last five products"
   ]
  },
  {
   "cell_type": "code",
   "execution_count": 2,
   "metadata": {
    "id": "qSyggrh41Bit"
   },
   "outputs": [
    {
     "data": {
      "text/html": [
       "<div>\n",
       "<style scoped>\n",
       "    .dataframe tbody tr th:only-of-type {\n",
       "        vertical-align: middle;\n",
       "    }\n",
       "\n",
       "    .dataframe tbody tr th {\n",
       "        vertical-align: top;\n",
       "    }\n",
       "\n",
       "    .dataframe thead th {\n",
       "        text-align: right;\n",
       "    }\n",
       "</style>\n",
       "<table border=\"1\" class=\"dataframe\">\n",
       "  <thead>\n",
       "    <tr style=\"text-align: right;\">\n",
       "      <th></th>\n",
       "      <th>productName</th>\n",
       "      <th>productCode</th>\n",
       "    </tr>\n",
       "  </thead>\n",
       "  <tbody>\n",
       "    <tr>\n",
       "      <th>0</th>\n",
       "      <td>1969 Harley Davidson Ultimate Chopper</td>\n",
       "      <td>S10_1678</td>\n",
       "    </tr>\n",
       "    <tr>\n",
       "      <th>1</th>\n",
       "      <td>1952 Alpine Renault 1300</td>\n",
       "      <td>S10_1949</td>\n",
       "    </tr>\n",
       "    <tr>\n",
       "      <th>2</th>\n",
       "      <td>1996 Moto Guzzi 1100i</td>\n",
       "      <td>S10_2016</td>\n",
       "    </tr>\n",
       "    <tr>\n",
       "      <th>3</th>\n",
       "      <td>2003 Harley-Davidson Eagle Drag Bike</td>\n",
       "      <td>S10_4698</td>\n",
       "    </tr>\n",
       "    <tr>\n",
       "      <th>4</th>\n",
       "      <td>1972 Alfa Romeo GTA</td>\n",
       "      <td>S10_4757</td>\n",
       "    </tr>\n",
       "  </tbody>\n",
       "</table>\n",
       "</div>"
      ],
      "text/plain": [
       "                             productName productCode\n",
       "0  1969 Harley Davidson Ultimate Chopper    S10_1678\n",
       "1               1952 Alpine Renault 1300    S10_1949\n",
       "2                  1996 Moto Guzzi 1100i    S10_2016\n",
       "3   2003 Harley-Davidson Eagle Drag Bike    S10_4698\n",
       "4                    1972 Alfa Romeo GTA    S10_4757"
      ]
     },
     "execution_count": 2,
     "metadata": {},
     "output_type": "execute_result"
    }
   ],
   "source": [
    "# Your code here\n",
    "pd.read_sql(\"\"\"\n",
    "SELECT productNAME, productCODE \n",
    "    FROM products;\n",
    "\"\"\", conn).head()\n"
   ]
  },
  {
   "cell_type": "markdown",
   "metadata": {
    "id": "C9z8IB8f2FfL"
   },
   "source": [
    "2. Now switch the order of the columns, i.e. show the product code first and then the product name.\n",
    "- Show the last five products"
   ]
  },
  {
   "cell_type": "code",
   "execution_count": 4,
   "metadata": {
    "id": "baYssdIt106R"
   },
   "outputs": [
    {
     "data": {
      "text/html": [
       "<div>\n",
       "<style scoped>\n",
       "    .dataframe tbody tr th:only-of-type {\n",
       "        vertical-align: middle;\n",
       "    }\n",
       "\n",
       "    .dataframe tbody tr th {\n",
       "        vertical-align: top;\n",
       "    }\n",
       "\n",
       "    .dataframe thead th {\n",
       "        text-align: right;\n",
       "    }\n",
       "</style>\n",
       "<table border=\"1\" class=\"dataframe\">\n",
       "  <thead>\n",
       "    <tr style=\"text-align: right;\">\n",
       "      <th></th>\n",
       "      <th>productCode</th>\n",
       "      <th>productName</th>\n",
       "    </tr>\n",
       "  </thead>\n",
       "  <tbody>\n",
       "    <tr>\n",
       "      <th>0</th>\n",
       "      <td>S10_1678</td>\n",
       "      <td>1969 Harley Davidson Ultimate Chopper</td>\n",
       "    </tr>\n",
       "    <tr>\n",
       "      <th>1</th>\n",
       "      <td>S10_1949</td>\n",
       "      <td>1952 Alpine Renault 1300</td>\n",
       "    </tr>\n",
       "    <tr>\n",
       "      <th>2</th>\n",
       "      <td>S10_2016</td>\n",
       "      <td>1996 Moto Guzzi 1100i</td>\n",
       "    </tr>\n",
       "    <tr>\n",
       "      <th>3</th>\n",
       "      <td>S10_4698</td>\n",
       "      <td>2003 Harley-Davidson Eagle Drag Bike</td>\n",
       "    </tr>\n",
       "    <tr>\n",
       "      <th>4</th>\n",
       "      <td>S10_4757</td>\n",
       "      <td>1972 Alfa Romeo GTA</td>\n",
       "    </tr>\n",
       "  </tbody>\n",
       "</table>\n",
       "</div>"
      ],
      "text/plain": [
       "  productCode                            productName\n",
       "0    S10_1678  1969 Harley Davidson Ultimate Chopper\n",
       "1    S10_1949               1952 Alpine Renault 1300\n",
       "2    S10_2016                  1996 Moto Guzzi 1100i\n",
       "3    S10_4698   2003 Harley-Davidson Eagle Drag Bike\n",
       "4    S10_4757                    1972 Alfa Romeo GTA"
      ]
     },
     "execution_count": 4,
     "metadata": {},
     "output_type": "execute_result"
    }
   ],
   "source": [
    "# Your code here\n",
    "pd.read_sql(\"\"\"\n",
    "SELECT productCODE, productNAME \n",
    "    FROM products;\n",
    "\"\"\", conn).head()\n"
   ]
  },
  {
   "cell_type": "markdown",
   "metadata": {
    "id": "6M0y9RLs2g-Z"
   },
   "source": [
    "3. Select the product name and product line\n",
    "- When the product line is \"Planes\" keep it as \"Planes\", otherwise have it as \"Not Planes\"\n",
    "- Call this new column \"Planes\""
   ]
  },
  {
   "cell_type": "code",
   "execution_count": 6,
   "metadata": {
    "id": "cYnEJc3p2hwY"
   },
   "outputs": [
    {
     "data": {
      "text/html": [
       "<div>\n",
       "<style scoped>\n",
       "    .dataframe tbody tr th:only-of-type {\n",
       "        vertical-align: middle;\n",
       "    }\n",
       "\n",
       "    .dataframe tbody tr th {\n",
       "        vertical-align: top;\n",
       "    }\n",
       "\n",
       "    .dataframe thead th {\n",
       "        text-align: right;\n",
       "    }\n",
       "</style>\n",
       "<table border=\"1\" class=\"dataframe\">\n",
       "  <thead>\n",
       "    <tr style=\"text-align: right;\">\n",
       "      <th></th>\n",
       "      <th>productName</th>\n",
       "      <th>productLine</th>\n",
       "      <th>Planes</th>\n",
       "    </tr>\n",
       "  </thead>\n",
       "  <tbody>\n",
       "    <tr>\n",
       "      <th>0</th>\n",
       "      <td>1969 Harley Davidson Ultimate Chopper</td>\n",
       "      <td>Motorcycles</td>\n",
       "      <td>Not Planes</td>\n",
       "    </tr>\n",
       "    <tr>\n",
       "      <th>1</th>\n",
       "      <td>1952 Alpine Renault 1300</td>\n",
       "      <td>Classic Cars</td>\n",
       "      <td>Not Planes</td>\n",
       "    </tr>\n",
       "    <tr>\n",
       "      <th>2</th>\n",
       "      <td>1996 Moto Guzzi 1100i</td>\n",
       "      <td>Motorcycles</td>\n",
       "      <td>Not Planes</td>\n",
       "    </tr>\n",
       "    <tr>\n",
       "      <th>3</th>\n",
       "      <td>2003 Harley-Davidson Eagle Drag Bike</td>\n",
       "      <td>Motorcycles</td>\n",
       "      <td>Not Planes</td>\n",
       "    </tr>\n",
       "    <tr>\n",
       "      <th>4</th>\n",
       "      <td>1972 Alfa Romeo GTA</td>\n",
       "      <td>Classic Cars</td>\n",
       "      <td>Not Planes</td>\n",
       "    </tr>\n",
       "    <tr>\n",
       "      <th>...</th>\n",
       "      <td>...</td>\n",
       "      <td>...</td>\n",
       "      <td>...</td>\n",
       "    </tr>\n",
       "    <tr>\n",
       "      <th>105</th>\n",
       "      <td>The Titanic</td>\n",
       "      <td>Ships</td>\n",
       "      <td>Not Planes</td>\n",
       "    </tr>\n",
       "    <tr>\n",
       "      <th>106</th>\n",
       "      <td>The Queen Mary</td>\n",
       "      <td>Ships</td>\n",
       "      <td>Not Planes</td>\n",
       "    </tr>\n",
       "    <tr>\n",
       "      <th>107</th>\n",
       "      <td>American Airlines: MD-11S</td>\n",
       "      <td>Planes</td>\n",
       "      <td>Planes</td>\n",
       "    </tr>\n",
       "    <tr>\n",
       "      <th>108</th>\n",
       "      <td>Boeing X-32A JSF</td>\n",
       "      <td>Planes</td>\n",
       "      <td>Planes</td>\n",
       "    </tr>\n",
       "    <tr>\n",
       "      <th>109</th>\n",
       "      <td>Pont Yacht</td>\n",
       "      <td>Ships</td>\n",
       "      <td>Not Planes</td>\n",
       "    </tr>\n",
       "  </tbody>\n",
       "</table>\n",
       "<p>110 rows × 3 columns</p>\n",
       "</div>"
      ],
      "text/plain": [
       "                               productName   productLine      Planes\n",
       "0    1969 Harley Davidson Ultimate Chopper   Motorcycles  Not Planes\n",
       "1                 1952 Alpine Renault 1300  Classic Cars  Not Planes\n",
       "2                    1996 Moto Guzzi 1100i   Motorcycles  Not Planes\n",
       "3     2003 Harley-Davidson Eagle Drag Bike   Motorcycles  Not Planes\n",
       "4                      1972 Alfa Romeo GTA  Classic Cars  Not Planes\n",
       "..                                     ...           ...         ...\n",
       "105                            The Titanic         Ships  Not Planes\n",
       "106                         The Queen Mary         Ships  Not Planes\n",
       "107              American Airlines: MD-11S        Planes      Planes\n",
       "108                       Boeing X-32A JSF        Planes      Planes\n",
       "109                             Pont Yacht         Ships  Not Planes\n",
       "\n",
       "[110 rows x 3 columns]"
      ]
     },
     "execution_count": 6,
     "metadata": {},
     "output_type": "execute_result"
    }
   ],
   "source": [
    "# Your code here\n",
    "pd.read_sql(\"\"\"\n",
    "SELECT productName, productLine,\n",
    "       CASE\n",
    "       WHEN productLine = \"Planes\" THEN \"Planes\"\n",
    "       ELSE \"Not Planes\"\n",
    "       END AS Planes\n",
    "  FROM products;\n",
    "\"\"\", conn)"
   ]
  },
  {
   "cell_type": "markdown",
   "metadata": {
    "id": "5gqoXjhK4qgt"
   },
   "source": [
    "4. Find the length of the product description for each product.\n",
    "- Call this new column \"description_length\"\n",
    "- Show the first five rows of data"
   ]
  },
  {
   "cell_type": "code",
   "execution_count": 9,
   "metadata": {
    "id": "SRVtye384qpq"
   },
   "outputs": [
    {
     "data": {
      "text/html": [
       "<div>\n",
       "<style scoped>\n",
       "    .dataframe tbody tr th:only-of-type {\n",
       "        vertical-align: middle;\n",
       "    }\n",
       "\n",
       "    .dataframe tbody tr th {\n",
       "        vertical-align: top;\n",
       "    }\n",
       "\n",
       "    .dataframe thead th {\n",
       "        text-align: right;\n",
       "    }\n",
       "</style>\n",
       "<table border=\"1\" class=\"dataframe\">\n",
       "  <thead>\n",
       "    <tr style=\"text-align: right;\">\n",
       "      <th></th>\n",
       "      <th>description_length</th>\n",
       "    </tr>\n",
       "  </thead>\n",
       "  <tbody>\n",
       "    <tr>\n",
       "      <th>0</th>\n",
       "      <td>230</td>\n",
       "    </tr>\n",
       "    <tr>\n",
       "      <th>1</th>\n",
       "      <td>143</td>\n",
       "    </tr>\n",
       "    <tr>\n",
       "      <th>2</th>\n",
       "      <td>391</td>\n",
       "    </tr>\n",
       "    <tr>\n",
       "      <th>3</th>\n",
       "      <td>494</td>\n",
       "    </tr>\n",
       "    <tr>\n",
       "      <th>4</th>\n",
       "      <td>161</td>\n",
       "    </tr>\n",
       "  </tbody>\n",
       "</table>\n",
       "</div>"
      ],
      "text/plain": [
       "   description_length\n",
       "0                 230\n",
       "1                 143\n",
       "2                 391\n",
       "3                 494\n",
       "4                 161"
      ]
     },
     "execution_count": 9,
     "metadata": {},
     "output_type": "execute_result"
    }
   ],
   "source": [
    "# Your code here\n",
    "pd.read_sql(\"\"\"\n",
    "SELECT length(productDescription) AS description_length\n",
    "  FROM products;\n",
    "\"\"\", conn).head()"
   ]
  },
  {
   "cell_type": "markdown",
   "metadata": {
    "id": "1VXo2skP6LGN"
   },
   "source": [
    "5. Let's change the product vendor to all caps.\n",
    "- Call this new column \"caps_vendor\"\n",
    "- Show the first five rows"
   ]
  },
  {
   "cell_type": "code",
   "execution_count": 10,
   "metadata": {
    "id": "diZRm5IR6LQH"
   },
   "outputs": [
    {
     "data": {
      "text/html": [
       "<div>\n",
       "<style scoped>\n",
       "    .dataframe tbody tr th:only-of-type {\n",
       "        vertical-align: middle;\n",
       "    }\n",
       "\n",
       "    .dataframe tbody tr th {\n",
       "        vertical-align: top;\n",
       "    }\n",
       "\n",
       "    .dataframe thead th {\n",
       "        text-align: right;\n",
       "    }\n",
       "</style>\n",
       "<table border=\"1\" class=\"dataframe\">\n",
       "  <thead>\n",
       "    <tr style=\"text-align: right;\">\n",
       "      <th></th>\n",
       "      <th>caps_vendor</th>\n",
       "    </tr>\n",
       "  </thead>\n",
       "  <tbody>\n",
       "    <tr>\n",
       "      <th>0</th>\n",
       "      <td>MIN LIN DIECAST</td>\n",
       "    </tr>\n",
       "    <tr>\n",
       "      <th>1</th>\n",
       "      <td>CLASSIC METAL CREATIONS</td>\n",
       "    </tr>\n",
       "    <tr>\n",
       "      <th>2</th>\n",
       "      <td>HIGHWAY 66 MINI CLASSICS</td>\n",
       "    </tr>\n",
       "    <tr>\n",
       "      <th>3</th>\n",
       "      <td>RED START DIECAST</td>\n",
       "    </tr>\n",
       "    <tr>\n",
       "      <th>4</th>\n",
       "      <td>MOTOR CITY ART CLASSICS</td>\n",
       "    </tr>\n",
       "  </tbody>\n",
       "</table>\n",
       "</div>"
      ],
      "text/plain": [
       "                caps_vendor\n",
       "0           MIN LIN DIECAST\n",
       "1   CLASSIC METAL CREATIONS\n",
       "2  HIGHWAY 66 MINI CLASSICS\n",
       "3         RED START DIECAST\n",
       "4   MOTOR CITY ART CLASSICS"
      ]
     },
     "execution_count": 10,
     "metadata": {},
     "output_type": "execute_result"
    }
   ],
   "source": [
    "# Your code here\n",
    "pd.read_sql(\"\"\"\n",
    "SELECT upper(productVendor) AS caps_vendor\n",
    "  FROM products;\n",
    "\"\"\", conn).head()"
   ]
  },
  {
   "cell_type": "markdown",
   "metadata": {
    "id": "LS0j4kps5soh"
   },
   "source": [
    "6. Let's change the product name to all lowercase.\n",
    "- Use `lower()` as you did `upper()`\n",
    "- Call this new column \"lower_name\"\n",
    "- Show the first five rows"
   ]
  },
  {
   "cell_type": "code",
   "execution_count": null,
   "metadata": {
    "id": "5rLtIKOV5sGI"
   },
   "outputs": [],
   "source": [
    "# Your code here\n"
   ]
  },
  {
   "cell_type": "markdown",
   "metadata": {
    "id": "fc0Y2b9y63Os"
   },
   "source": [
    "7. Since all of the product scales are 1:*xxx*, we can take a substring of just the number following the colon.\n",
    "- The first character following the colon is the third character\n",
    "- None of the scales are more than 1 to a three digit number"
   ]
  },
  {
   "cell_type": "code",
   "execution_count": null,
   "metadata": {
    "id": "4XwbWUYK698X"
   },
   "outputs": [],
   "source": [
    "# Your code here\n"
   ]
  },
  {
   "cell_type": "markdown",
   "metadata": {
    "id": "1L_X4CIv8m_7"
   },
   "source": [
    "8. Create a new column \"fullName\" that has product vendor followed by the product name with a space between\n",
    "- For example, Min Lin Diecast 1969 Harley Davidson Ultimate Chopper"
   ]
  },
  {
   "cell_type": "code",
   "execution_count": null,
   "metadata": {
    "id": "f2rp_daw9Eji"
   },
   "outputs": [],
   "source": [
    "# Your code here\n"
   ]
  },
  {
   "cell_type": "markdown",
   "metadata": {
    "id": "gJf4AZNW9SG3"
   },
   "source": [
    "9. Find the difference in price between the MSRP and the buy price.\n",
    "- Round the difference to the nearest whole number, i.e. as an integer, not floating point\n",
    "- Call this new column \"round_diff\"\n",
    "- Hint: These should all be positive values"
   ]
  },
  {
   "cell_type": "code",
   "execution_count": null,
   "metadata": {
    "id": "CTY5R5EE9STZ"
   },
   "outputs": [],
   "source": [
    "# Your code here\n"
   ]
  }
 ],
 "metadata": {
  "colab": {
   "provenance": []
  },
  "kernelspec": {
   "display_name": "Python 3 (ipykernel)",
   "language": "python",
   "name": "python3"
  },
  "language_info": {
   "codemirror_mode": {
    "name": "ipython",
    "version": 3
   },
   "file_extension": ".py",
   "mimetype": "text/x-python",
   "name": "python",
   "nbconvert_exporter": "python",
   "pygments_lexer": "ipython3",
   "version": "3.12.4"
  }
 },
 "nbformat": 4,
 "nbformat_minor": 4
}
