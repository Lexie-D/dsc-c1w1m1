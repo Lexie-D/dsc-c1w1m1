{
  "nbformat": 4,
  "nbformat_minor": 0,
  "metadata": {
    "colab": {
      "provenance": []
    },
    "kernelspec": {
      "name": "python3",
      "display_name": "Python 3"
    },
    "language_info": {
      "name": "python"
    }
  },
  "cells": [
    {
      "cell_type": "markdown",
      "source": [
        "# Practice for Selecting Data with SQL"
      ],
      "metadata": {
        "id": "quInnNDJ07dw"
      }
    },
    {
      "cell_type": "markdown",
      "source": [
        "Run the code below without change to get started."
      ],
      "metadata": {
        "id": "8eWzcr9608Jx"
      }
    },
    {
      "cell_type": "code",
      "execution_count": null,
      "metadata": {
        "collapsed": true,
        "id": "NZdFfU5406yL"
      },
      "outputs": [],
      "source": [
        "# Connecting, Libraries, and Data\n",
        "\n",
        "import sqlite3\n",
        "conn = sqlite3.connect('data.sqlite')\n",
        "\n",
        "import pandas as pd\n",
        "\n",
        "pd.read_sql(\"\"\"\n",
        "SELECT *\n",
        "  FROM products;\n",
        "\"\"\", conn)"
      ]
    },
    {
      "cell_type": "markdown",
      "source": [
        "1. Select the product name and product code for the products\n",
        "- Show the last five products"
      ],
      "metadata": {
        "id": "wtn8gykt1nLS"
      }
    },
    {
      "cell_type": "code",
      "source": [
        "# Your code here\n"
      ],
      "metadata": {
        "collapsed": true,
        "id": "qSyggrh41Bit"
      },
      "execution_count": null,
      "outputs": []
    },
    {
      "cell_type": "markdown",
      "source": [
        "2. Now switch the order of the columns, i.e. show the product code first and then the product name.\n",
        "- Show the last five products"
      ],
      "metadata": {
        "id": "C9z8IB8f2FfL"
      }
    },
    {
      "cell_type": "code",
      "source": [
        "# Your code here\n"
      ],
      "metadata": {
        "collapsed": true,
        "id": "baYssdIt106R"
      },
      "execution_count": null,
      "outputs": []
    },
    {
      "cell_type": "markdown",
      "source": [
        "3. Select the product name and product line\n",
        "- When the product line is \"Planes\" keep it as \"Planes\", otherwise have it as \"Not Planes\"\n",
        "- Call this new column \"Planes\""
      ],
      "metadata": {
        "id": "6M0y9RLs2g-Z"
      }
    },
    {
      "cell_type": "code",
      "source": [
        "# Your code here\n"
      ],
      "metadata": {
        "id": "cYnEJc3p2hwY"
      },
      "execution_count": null,
      "outputs": []
    },
    {
      "cell_type": "markdown",
      "source": [
        "4. Find the length of the product description for each product.\n",
        "- Call this new column \"description_length\"\n",
        "- Show the first five rows of data"
      ],
      "metadata": {
        "id": "5gqoXjhK4qgt"
      }
    },
    {
      "cell_type": "code",
      "source": [
        "# Your code here\n"
      ],
      "metadata": {
        "id": "SRVtye384qpq"
      },
      "execution_count": null,
      "outputs": []
    },
    {
      "cell_type": "markdown",
      "source": [
        "5. Let's change the product vendor to all caps.\n",
        "- Call this new column \"caps_vendor\"\n",
        "- Show the first five rows"
      ],
      "metadata": {
        "id": "1VXo2skP6LGN"
      }
    },
    {
      "cell_type": "code",
      "source": [
        "# Your code here\n"
      ],
      "metadata": {
        "id": "diZRm5IR6LQH"
      },
      "execution_count": null,
      "outputs": []
    },
    {
      "cell_type": "markdown",
      "source": [
        "6. Let's change the product name to all lowercase.\n",
        "- Use `lower()` as you did `upper()`\n",
        "- Call this new column \"lower_name\"\n",
        "- Show the first five rows"
      ],
      "metadata": {
        "id": "LS0j4kps5soh"
      }
    },
    {
      "cell_type": "code",
      "source": [
        "# Your code here\n"
      ],
      "metadata": {
        "id": "5rLtIKOV5sGI"
      },
      "execution_count": null,
      "outputs": []
    },
    {
      "cell_type": "markdown",
      "source": [
        "7. Since all of the product scales are 1:*xxx*, we can take a substring of just the number following the colon.\n",
        "- The first character following the colon is the third character\n",
        "- None of the scales are more than 1 to a three digit number"
      ],
      "metadata": {
        "id": "fc0Y2b9y63Os"
      }
    },
    {
      "cell_type": "code",
      "source": [
        "# Your code here\n"
      ],
      "metadata": {
        "id": "4XwbWUYK698X"
      },
      "execution_count": null,
      "outputs": []
    },
    {
      "cell_type": "markdown",
      "source": [
        "8. Create a new column \"fullName\" that has product vendor followed by the product name with a space between\n",
        "- For example, Min Lin Diecast 1969 Harley Davidson Ultimate Chopper"
      ],
      "metadata": {
        "id": "1L_X4CIv8m_7"
      }
    },
    {
      "cell_type": "code",
      "source": [
        "# Your code here\n"
      ],
      "metadata": {
        "id": "f2rp_daw9Eji"
      },
      "execution_count": null,
      "outputs": []
    },
    {
      "cell_type": "markdown",
      "source": [
        "9. Find the difference in price between the MSRP and the buy price.\n",
        "- Round the difference to the nearest whole number, i.e. as an integer, not floating point\n",
        "- Call this new column \"round_diff\"\n",
        "- Hint: These should all be positive values"
      ],
      "metadata": {
        "id": "gJf4AZNW9SG3"
      }
    },
    {
      "cell_type": "code",
      "source": [
        "# Your code here\n"
      ],
      "metadata": {
        "id": "CTY5R5EE9STZ"
      },
      "execution_count": null,
      "outputs": []
    }
  ]
}